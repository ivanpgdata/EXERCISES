{
 "cells": [
  {
   "cell_type": "markdown",
   "id": "ef7b78ce-83cd-46f9-b058-6ab2eba40be7",
   "metadata": {},
   "source": [
    "## Kaggle Exercise"
   ]
  },
  {
   "cell_type": "markdown",
   "id": "616610a5-14d5-41f5-9374-d3c083b2b390",
   "metadata": {},
   "source": [
    "The data used for this test is sourced from the Museum of Modern Art data on Kaggle: https://www.kaggle.com/momanyc/museum-collection\n",
    "\n",
    "\r\n",
    "\r\n",
    "If you are comfortable in more than one, please feel free to share one or more solutions in a different language.\r\n",
    "1. \r\n",
    "    Which artist in this data set lived the lo\n",
    "    ngest2. ?\r\n",
    "    Who are the top 10 artists by the number of ar\n",
    "    twork3. s?\r\n",
    "    Which artist is created the most artwork by total surfa\n",
    "    ce ar4. ea?\r\n",
    "    Did any artists have artwork acquired during their lew cluster.\r\n"
   ]
  },
  {
   "cell_type": "markdown",
   "id": "f646cc22-9be4-4f98-a134-32724099bf4f",
   "metadata": {
    "jp-MarkdownHeadingCollapsed": true
   },
   "source": [
    "## Libraries and loading the dataset "
   ]
  },
  {
   "cell_type": "code",
   "execution_count": 1,
   "id": "0abb771e-344d-4be0-acb5-862b5d750a62",
   "metadata": {},
   "outputs": [],
   "source": [
    "import pandas as pd\n",
    "import matplotlib.pyplot as plt\n",
    "import seaborn as sns\n",
    "import numpy as np\n",
    "import re\n",
    "# Warnings\n",
    "import warnings\n",
    "warnings.filterwarnings(\"ignore\")"
   ]
  },
  {
   "cell_type": "code",
   "execution_count": 2,
   "id": "bd3121bc-be17-4ea5-b69b-9c80f7a3f194",
   "metadata": {},
   "outputs": [],
   "source": [
    "# Cargo dataset\n",
    "dfa = pd.read_csv(\"artists.csv\")\n",
    "dfb = pd.read_csv(\"artworks.csv\")"
   ]
  },
  {
   "cell_type": "markdown",
   "id": "1d914b25-3225-4ba3-8069-0f94b0709411",
   "metadata": {
    "jp-MarkdownHeadingCollapsed": true
   },
   "source": [
    "## 0. Getting to know our data"
   ]
  },
  {
   "cell_type": "markdown",
   "id": "021f33d7-26ed-487d-a92e-fd6b5665c82c",
   "metadata": {
    "jp-MarkdownHeadingCollapsed": true
   },
   "source": [
    "### dfa = Artist's Dataframe"
   ]
  },
  {
   "cell_type": "code",
   "execution_count": 3,
   "id": "d686ac38-2d79-4eee-a242-a32d4215549c",
   "metadata": {},
   "outputs": [
    {
     "data": {
      "text/html": [
       "<div>\n",
       "<style scoped>\n",
       "    .dataframe tbody tr th:only-of-type {\n",
       "        vertical-align: middle;\n",
       "    }\n",
       "\n",
       "    .dataframe tbody tr th {\n",
       "        vertical-align: top;\n",
       "    }\n",
       "\n",
       "    .dataframe thead th {\n",
       "        text-align: right;\n",
       "    }\n",
       "</style>\n",
       "<table border=\"1\" class=\"dataframe\">\n",
       "  <thead>\n",
       "    <tr style=\"text-align: right;\">\n",
       "      <th></th>\n",
       "      <th>Artist ID</th>\n",
       "      <th>Name</th>\n",
       "      <th>Nationality</th>\n",
       "      <th>Gender</th>\n",
       "      <th>Birth Year</th>\n",
       "      <th>Death Year</th>\n",
       "    </tr>\n",
       "  </thead>\n",
       "  <tbody>\n",
       "    <tr>\n",
       "      <th>0</th>\n",
       "      <td>1</td>\n",
       "      <td>Robert Arneson</td>\n",
       "      <td>American</td>\n",
       "      <td>Male</td>\n",
       "      <td>1930.0</td>\n",
       "      <td>1992.0</td>\n",
       "    </tr>\n",
       "    <tr>\n",
       "      <th>1</th>\n",
       "      <td>2</td>\n",
       "      <td>Doroteo Arnaiz</td>\n",
       "      <td>Spanish</td>\n",
       "      <td>Male</td>\n",
       "      <td>1936.0</td>\n",
       "      <td>NaN</td>\n",
       "    </tr>\n",
       "  </tbody>\n",
       "</table>\n",
       "</div>"
      ],
      "text/plain": [
       "   Artist ID            Name Nationality Gender  Birth Year  Death Year\n",
       "0          1  Robert Arneson    American   Male      1930.0      1992.0\n",
       "1          2  Doroteo Arnaiz     Spanish   Male      1936.0         NaN"
      ]
     },
     "execution_count": 3,
     "metadata": {},
     "output_type": "execute_result"
    }
   ],
   "source": [
    "dfa.head(2)"
   ]
  },
  {
   "cell_type": "code",
   "execution_count": 4,
   "id": "c73e64bb-dfc2-4b04-b487-738ed20b0779",
   "metadata": {},
   "outputs": [
    {
     "name": "stdout",
     "output_type": "stream",
     "text": [
      "<class 'pandas.core.frame.DataFrame'>\n",
      "RangeIndex: 15091 entries, 0 to 15090\n",
      "Data columns (total 6 columns):\n",
      " #   Column       Non-Null Count  Dtype  \n",
      "---  ------       --------------  -----  \n",
      " 0   Artist ID    15091 non-null  int64  \n",
      " 1   Name         15091 non-null  object \n",
      " 2   Nationality  12603 non-null  object \n",
      " 3   Gender       12019 non-null  object \n",
      " 4   Birth Year   11237 non-null  float64\n",
      " 5   Death Year   4579 non-null   float64\n",
      "dtypes: float64(2), int64(1), object(3)\n",
      "memory usage: 707.5+ KB\n"
     ]
    }
   ],
   "source": [
    "dfa.info()"
   ]
  },
  {
   "cell_type": "code",
   "execution_count": 5,
   "id": "b2f84a05-62b0-4946-9844-ccc6b8ab2bf3",
   "metadata": {},
   "outputs": [
    {
     "data": {
      "text/plain": [
       "(15091, 6)"
      ]
     },
     "execution_count": 5,
     "metadata": {},
     "output_type": "execute_result"
    }
   ],
   "source": [
    "dfa.shape"
   ]
  },
  {
   "cell_type": "code",
   "execution_count": 6,
   "id": "d7dcd5bd-da85-4442-a5be-95c7447b1cea",
   "metadata": {},
   "outputs": [
    {
     "data": {
      "text/plain": [
       "Artist ID          0\n",
       "Name               0\n",
       "Nationality     2488\n",
       "Gender          3072\n",
       "Birth Year      3854\n",
       "Death Year     10512\n",
       "dtype: int64"
      ]
     },
     "execution_count": 6,
     "metadata": {},
     "output_type": "execute_result"
    }
   ],
   "source": [
    "dfa.isnull().sum()"
   ]
  },
  {
   "cell_type": "code",
   "execution_count": null,
   "id": "6716ed07-d311-4cf6-a3ed-0492cb78fb85",
   "metadata": {},
   "outputs": [],
   "source": []
  },
  {
   "cell_type": "markdown",
   "id": "555490f4-bf7b-4b63-8d75-b04ed4d0a273",
   "metadata": {
    "jp-MarkdownHeadingCollapsed": true
   },
   "source": [
    "### dfb = Artwork's Dataframe"
   ]
  },
  {
   "cell_type": "code",
   "execution_count": 7,
   "id": "9c811e52-7842-47d6-8fee-6fd798eb031c",
   "metadata": {},
   "outputs": [
    {
     "data": {
      "text/html": [
       "<div>\n",
       "<style scoped>\n",
       "    .dataframe tbody tr th:only-of-type {\n",
       "        vertical-align: middle;\n",
       "    }\n",
       "\n",
       "    .dataframe tbody tr th {\n",
       "        vertical-align: top;\n",
       "    }\n",
       "\n",
       "    .dataframe thead th {\n",
       "        text-align: right;\n",
       "    }\n",
       "</style>\n",
       "<table border=\"1\" class=\"dataframe\">\n",
       "  <thead>\n",
       "    <tr style=\"text-align: right;\">\n",
       "      <th></th>\n",
       "      <th>Artwork ID</th>\n",
       "      <th>Title</th>\n",
       "      <th>Artist ID</th>\n",
       "      <th>Name</th>\n",
       "      <th>Date</th>\n",
       "      <th>Medium</th>\n",
       "      <th>Dimensions</th>\n",
       "      <th>Acquisition Date</th>\n",
       "      <th>Credit</th>\n",
       "      <th>Catalogue</th>\n",
       "      <th>...</th>\n",
       "      <th>Classification</th>\n",
       "      <th>Object Number</th>\n",
       "      <th>Diameter (cm)</th>\n",
       "      <th>Circumference (cm)</th>\n",
       "      <th>Height (cm)</th>\n",
       "      <th>Length (cm)</th>\n",
       "      <th>Width (cm)</th>\n",
       "      <th>Depth (cm)</th>\n",
       "      <th>Weight (kg)</th>\n",
       "      <th>Duration (s)</th>\n",
       "    </tr>\n",
       "  </thead>\n",
       "  <tbody>\n",
       "    <tr>\n",
       "      <th>0</th>\n",
       "      <td>2</td>\n",
       "      <td>Ferdinandsbrücke Project, Vienna, Austria, Ele...</td>\n",
       "      <td>6210</td>\n",
       "      <td>Otto Wagner</td>\n",
       "      <td>1896</td>\n",
       "      <td>Ink and cut-and-pasted painted pages on paper</td>\n",
       "      <td>19 1/8 x 66 1/2\" (48.6 x 168.9 cm)</td>\n",
       "      <td>1996-04-09</td>\n",
       "      <td>Fractional and promised gift of Jo Carole and ...</td>\n",
       "      <td>Y</td>\n",
       "      <td>...</td>\n",
       "      <td>Architecture</td>\n",
       "      <td>885.1996</td>\n",
       "      <td>NaN</td>\n",
       "      <td>NaN</td>\n",
       "      <td>48.6000</td>\n",
       "      <td>NaN</td>\n",
       "      <td>168.9000</td>\n",
       "      <td>NaN</td>\n",
       "      <td>NaN</td>\n",
       "      <td>NaN</td>\n",
       "    </tr>\n",
       "    <tr>\n",
       "      <th>1</th>\n",
       "      <td>3</td>\n",
       "      <td>City of Music, National Superior Conservatory ...</td>\n",
       "      <td>7470</td>\n",
       "      <td>Christian de Portzamparc</td>\n",
       "      <td>1987</td>\n",
       "      <td>Paint and colored pencil on print</td>\n",
       "      <td>16 x 11 3/4\" (40.6 x 29.8 cm)</td>\n",
       "      <td>1995-01-17</td>\n",
       "      <td>Gift of the architect in honor of Lily Auchinc...</td>\n",
       "      <td>Y</td>\n",
       "      <td>...</td>\n",
       "      <td>Architecture</td>\n",
       "      <td>1.1995</td>\n",
       "      <td>NaN</td>\n",
       "      <td>NaN</td>\n",
       "      <td>40.6401</td>\n",
       "      <td>NaN</td>\n",
       "      <td>29.8451</td>\n",
       "      <td>NaN</td>\n",
       "      <td>NaN</td>\n",
       "      <td>NaN</td>\n",
       "    </tr>\n",
       "  </tbody>\n",
       "</table>\n",
       "<p>2 rows × 21 columns</p>\n",
       "</div>"
      ],
      "text/plain": [
       "   Artwork ID                                              Title Artist ID  \\\n",
       "0           2  Ferdinandsbrücke Project, Vienna, Austria, Ele...      6210   \n",
       "1           3  City of Music, National Superior Conservatory ...      7470   \n",
       "\n",
       "                       Name  Date  \\\n",
       "0               Otto Wagner  1896   \n",
       "1  Christian de Portzamparc  1987   \n",
       "\n",
       "                                          Medium  \\\n",
       "0  Ink and cut-and-pasted painted pages on paper   \n",
       "1              Paint and colored pencil on print   \n",
       "\n",
       "                           Dimensions Acquisition Date  \\\n",
       "0  19 1/8 x 66 1/2\" (48.6 x 168.9 cm)       1996-04-09   \n",
       "1       16 x 11 3/4\" (40.6 x 29.8 cm)       1995-01-17   \n",
       "\n",
       "                                              Credit Catalogue  ...  \\\n",
       "0  Fractional and promised gift of Jo Carole and ...         Y  ...   \n",
       "1  Gift of the architect in honor of Lily Auchinc...         Y  ...   \n",
       "\n",
       "  Classification Object Number Diameter (cm)  Circumference (cm)  Height (cm)  \\\n",
       "0   Architecture      885.1996           NaN                 NaN      48.6000   \n",
       "1   Architecture        1.1995           NaN                 NaN      40.6401   \n",
       "\n",
       "   Length (cm)  Width (cm)  Depth (cm)  Weight (kg)  Duration (s)  \n",
       "0          NaN    168.9000         NaN          NaN           NaN  \n",
       "1          NaN     29.8451         NaN          NaN           NaN  \n",
       "\n",
       "[2 rows x 21 columns]"
      ]
     },
     "execution_count": 7,
     "metadata": {},
     "output_type": "execute_result"
    }
   ],
   "source": [
    "dfb.head(2)"
   ]
  },
  {
   "cell_type": "code",
   "execution_count": 8,
   "id": "08c6cd3c-471c-4b5e-827a-c95f99ab08d7",
   "metadata": {},
   "outputs": [
    {
     "name": "stdout",
     "output_type": "stream",
     "text": [
      "<class 'pandas.core.frame.DataFrame'>\n",
      "RangeIndex: 130262 entries, 0 to 130261\n",
      "Data columns (total 21 columns):\n",
      " #   Column              Non-Null Count   Dtype  \n",
      "---  ------              --------------   -----  \n",
      " 0   Artwork ID          130262 non-null  int64  \n",
      " 1   Title               130210 non-null  object \n",
      " 2   Artist ID           128802 non-null  object \n",
      " 3   Name                128802 non-null  object \n",
      " 4   Date                127950 non-null  object \n",
      " 5   Medium              118343 non-null  object \n",
      " 6   Dimensions          118799 non-null  object \n",
      " 7   Acquisition Date    124799 non-null  object \n",
      " 8   Credit              127192 non-null  object \n",
      " 9   Catalogue           130262 non-null  object \n",
      " 10  Department          130262 non-null  object \n",
      " 11  Classification      130262 non-null  object \n",
      " 12  Object Number       130262 non-null  object \n",
      " 13  Diameter (cm)       1399 non-null    float64\n",
      " 14  Circumference (cm)  10 non-null      float64\n",
      " 15  Height (cm)         111893 non-null  float64\n",
      " 16  Length (cm)         736 non-null     float64\n",
      " 17  Width (cm)          111003 non-null  float64\n",
      " 18  Depth (cm)          11443 non-null   float64\n",
      " 19  Weight (kg)         298 non-null     float64\n",
      " 20  Duration (s)        3084 non-null    float64\n",
      "dtypes: float64(8), int64(1), object(12)\n",
      "memory usage: 20.9+ MB\n"
     ]
    }
   ],
   "source": [
    "dfb.info()"
   ]
  },
  {
   "cell_type": "code",
   "execution_count": 9,
   "id": "ed9f8335-a84b-412d-9a83-cd732b5212e7",
   "metadata": {},
   "outputs": [
    {
     "data": {
      "text/plain": [
       "(130262, 21)"
      ]
     },
     "execution_count": 9,
     "metadata": {},
     "output_type": "execute_result"
    }
   ],
   "source": [
    "dfb.shape"
   ]
  },
  {
   "cell_type": "code",
   "execution_count": 10,
   "id": "03e1728e-78e2-412d-887b-f32eac153a80",
   "metadata": {},
   "outputs": [
    {
     "data": {
      "text/plain": [
       "Artwork ID                 0\n",
       "Title                     52\n",
       "Artist ID               1460\n",
       "Name                    1460\n",
       "Date                    2312\n",
       "Medium                 11919\n",
       "Dimensions             11463\n",
       "Acquisition Date        5463\n",
       "Credit                  3070\n",
       "Catalogue                  0\n",
       "Department                 0\n",
       "Classification             0\n",
       "Object Number              0\n",
       "Diameter (cm)         128863\n",
       "Circumference (cm)    130252\n",
       "Height (cm)            18369\n",
       "Length (cm)           129526\n",
       "Width (cm)             19259\n",
       "Depth (cm)            118819\n",
       "Weight (kg)           129964\n",
       "Duration (s)          127178\n",
       "dtype: int64"
      ]
     },
     "execution_count": 10,
     "metadata": {},
     "output_type": "execute_result"
    }
   ],
   "source": [
    "dfb.isnull().sum()"
   ]
  },
  {
   "cell_type": "code",
   "execution_count": 11,
   "id": "699fd9f9-4e59-42e3-95f4-b5b257204f94",
   "metadata": {},
   "outputs": [
    {
     "data": {
      "text/plain": [
       "1.0739893445517494"
      ]
     },
     "execution_count": 11,
     "metadata": {},
     "output_type": "execute_result"
    }
   ],
   "source": [
    "(130262-128863)/130262*100"
   ]
  },
  {
   "cell_type": "code",
   "execution_count": 12,
   "id": "05bb4f75-fc16-4ef6-8e78-045abe5f2b7f",
   "metadata": {},
   "outputs": [
    {
     "data": {
      "text/plain": [
       "Index(['Artwork ID', 'Title', 'Artist ID', 'Name', 'Date', 'Medium',\n",
       "       'Dimensions', 'Acquisition Date', 'Credit', 'Catalogue', 'Department',\n",
       "       'Classification', 'Object Number', 'Diameter (cm)',\n",
       "       'Circumference (cm)', 'Height (cm)', 'Length (cm)', 'Width (cm)',\n",
       "       'Depth (cm)', 'Weight (kg)', 'Duration (s)'],\n",
       "      dtype='object')"
      ]
     },
     "execution_count": 12,
     "metadata": {},
     "output_type": "execute_result"
    }
   ],
   "source": [
    "dfb.columns"
   ]
  },
  {
   "cell_type": "markdown",
   "id": "fb17ff20-8f23-479c-b28d-5bb9c64b0ad7",
   "metadata": {
    "jp-MarkdownHeadingCollapsed": true
   },
   "source": [
    "## 1. Which artist in this data set lived the longest?"
   ]
  },
  {
   "cell_type": "code",
   "execution_count": 13,
   "id": "57e82bea-4cc2-4cfe-862f-ce37cfd91957",
   "metadata": {},
   "outputs": [],
   "source": [
    "# Create a copy of the Dataframe for each exercise\n",
    "dfa1 = dfa.copy()"
   ]
  },
  {
   "cell_type": "code",
   "execution_count": 14,
   "id": "aedc2989-b5d8-44a8-8a93-ba46b7d8817c",
   "metadata": {},
   "outputs": [],
   "source": [
    "# The question is made in past tense therefore the artists that we are being asked for are not alive anymore so we will delete most of the artists whose Death Year is null\n",
    "# As we need to know when where they born in order to determine the age, we will also delete those whose Birth Year is null\n",
    "dfa1.dropna(subset=['Birth Year', 'Death Year'], inplace=True)"
   ]
  },
  {
   "cell_type": "code",
   "execution_count": 15,
   "id": "c3a82d83-24c6-4b84-9853-91bdd4ea350a",
   "metadata": {},
   "outputs": [
    {
     "data": {
      "text/plain": [
       "2017.0"
      ]
     },
     "execution_count": 15,
     "metadata": {},
     "output_type": "execute_result"
    }
   ],
   "source": [
    "#Last lived year by the most recent artist\n",
    "dfa1[\"Death Year\"].max()"
   ]
  },
  {
   "cell_type": "code",
   "execution_count": 16,
   "id": "8bfeef24-4a37-4387-9249-4bc5ee022b86",
   "metadata": {},
   "outputs": [],
   "source": [
    "#Substract the Birth Year from Death Year in order to get how many years the artist lived\n",
    "dfa1[\"Lived\"] = dfa1[\"Death Year\"] - dfa1[\"Birth Year\"]"
   ]
  },
  {
   "cell_type": "code",
   "execution_count": 17,
   "id": "fc95444a-9f63-4f3d-950f-812d52fcf7d4",
   "metadata": {},
   "outputs": [
    {
     "data": {
      "text/html": [
       "<div>\n",
       "<style scoped>\n",
       "    .dataframe tbody tr th:only-of-type {\n",
       "        vertical-align: middle;\n",
       "    }\n",
       "\n",
       "    .dataframe tbody tr th {\n",
       "        vertical-align: top;\n",
       "    }\n",
       "\n",
       "    .dataframe thead th {\n",
       "        text-align: right;\n",
       "    }\n",
       "</style>\n",
       "<table border=\"1\" class=\"dataframe\">\n",
       "  <thead>\n",
       "    <tr style=\"text-align: right;\">\n",
       "      <th></th>\n",
       "      <th>Artist ID</th>\n",
       "      <th>Name</th>\n",
       "      <th>Nationality</th>\n",
       "      <th>Gender</th>\n",
       "      <th>Birth Year</th>\n",
       "      <th>Death Year</th>\n",
       "      <th>Lived</th>\n",
       "    </tr>\n",
       "  </thead>\n",
       "  <tbody>\n",
       "    <tr>\n",
       "      <th>0</th>\n",
       "      <td>1</td>\n",
       "      <td>Robert Arneson</td>\n",
       "      <td>American</td>\n",
       "      <td>Male</td>\n",
       "      <td>1930.0</td>\n",
       "      <td>1992.0</td>\n",
       "      <td>62.0</td>\n",
       "    </tr>\n",
       "    <tr>\n",
       "      <th>9</th>\n",
       "      <td>11</td>\n",
       "      <td>Jean (Hans) Arp</td>\n",
       "      <td>French</td>\n",
       "      <td>Male</td>\n",
       "      <td>1886.0</td>\n",
       "      <td>1966.0</td>\n",
       "      <td>80.0</td>\n",
       "    </tr>\n",
       "    <tr>\n",
       "      <th>11</th>\n",
       "      <td>13</td>\n",
       "      <td>J. Arrelano Fischer</td>\n",
       "      <td>Mexican</td>\n",
       "      <td>Male</td>\n",
       "      <td>1911.0</td>\n",
       "      <td>1995.0</td>\n",
       "      <td>84.0</td>\n",
       "    </tr>\n",
       "    <tr>\n",
       "      <th>12</th>\n",
       "      <td>15</td>\n",
       "      <td>Folke Arstrom</td>\n",
       "      <td>Swedish</td>\n",
       "      <td>Male</td>\n",
       "      <td>1907.0</td>\n",
       "      <td>1997.0</td>\n",
       "      <td>90.0</td>\n",
       "    </tr>\n",
       "    <tr>\n",
       "      <th>13</th>\n",
       "      <td>16</td>\n",
       "      <td>Cristobal Arteche</td>\n",
       "      <td>Spanish</td>\n",
       "      <td>Male</td>\n",
       "      <td>1900.0</td>\n",
       "      <td>1964.0</td>\n",
       "      <td>64.0</td>\n",
       "    </tr>\n",
       "    <tr>\n",
       "      <th>...</th>\n",
       "      <td>...</td>\n",
       "      <td>...</td>\n",
       "      <td>...</td>\n",
       "      <td>...</td>\n",
       "      <td>...</td>\n",
       "      <td>...</td>\n",
       "      <td>...</td>\n",
       "    </tr>\n",
       "    <tr>\n",
       "      <th>15035</th>\n",
       "      <td>67127</td>\n",
       "      <td>John Sex</td>\n",
       "      <td>American</td>\n",
       "      <td>NaN</td>\n",
       "      <td>1956.0</td>\n",
       "      <td>1990.0</td>\n",
       "      <td>34.0</td>\n",
       "    </tr>\n",
       "    <tr>\n",
       "      <th>15036</th>\n",
       "      <td>67128</td>\n",
       "      <td>Egidio Bonfante</td>\n",
       "      <td>Italian</td>\n",
       "      <td>Male</td>\n",
       "      <td>1922.0</td>\n",
       "      <td>2004.0</td>\n",
       "      <td>82.0</td>\n",
       "    </tr>\n",
       "    <tr>\n",
       "      <th>15072</th>\n",
       "      <td>67336</td>\n",
       "      <td>Cal Dalton</td>\n",
       "      <td>American</td>\n",
       "      <td>NaN</td>\n",
       "      <td>1908.0</td>\n",
       "      <td>1974.0</td>\n",
       "      <td>66.0</td>\n",
       "    </tr>\n",
       "    <tr>\n",
       "      <th>15073</th>\n",
       "      <td>67337</td>\n",
       "      <td>Cal Howard</td>\n",
       "      <td>American</td>\n",
       "      <td>NaN</td>\n",
       "      <td>1911.0</td>\n",
       "      <td>1993.0</td>\n",
       "      <td>82.0</td>\n",
       "    </tr>\n",
       "    <tr>\n",
       "      <th>15079</th>\n",
       "      <td>67350</td>\n",
       "      <td>Howard Guttenplan</td>\n",
       "      <td>American</td>\n",
       "      <td>NaN</td>\n",
       "      <td>1934.0</td>\n",
       "      <td>2015.0</td>\n",
       "      <td>81.0</td>\n",
       "    </tr>\n",
       "  </tbody>\n",
       "</table>\n",
       "<p>4566 rows × 7 columns</p>\n",
       "</div>"
      ],
      "text/plain": [
       "       Artist ID                 Name Nationality Gender  Birth Year  \\\n",
       "0              1       Robert Arneson    American   Male      1930.0   \n",
       "9             11      Jean (Hans) Arp      French   Male      1886.0   \n",
       "11            13  J. Arrelano Fischer     Mexican   Male      1911.0   \n",
       "12            15        Folke Arstrom     Swedish   Male      1907.0   \n",
       "13            16    Cristobal Arteche     Spanish   Male      1900.0   \n",
       "...          ...                  ...         ...    ...         ...   \n",
       "15035      67127             John Sex    American    NaN      1956.0   \n",
       "15036      67128      Egidio Bonfante     Italian   Male      1922.0   \n",
       "15072      67336           Cal Dalton    American    NaN      1908.0   \n",
       "15073      67337           Cal Howard    American    NaN      1911.0   \n",
       "15079      67350    Howard Guttenplan    American    NaN      1934.0   \n",
       "\n",
       "       Death Year  Lived  \n",
       "0          1992.0   62.0  \n",
       "9          1966.0   80.0  \n",
       "11         1995.0   84.0  \n",
       "12         1997.0   90.0  \n",
       "13         1964.0   64.0  \n",
       "...           ...    ...  \n",
       "15035      1990.0   34.0  \n",
       "15036      2004.0   82.0  \n",
       "15072      1974.0   66.0  \n",
       "15073      1993.0   82.0  \n",
       "15079      2015.0   81.0  \n",
       "\n",
       "[4566 rows x 7 columns]"
      ]
     },
     "execution_count": 17,
     "metadata": {},
     "output_type": "execute_result"
    }
   ],
   "source": [
    "dfa1"
   ]
  },
  {
   "cell_type": "code",
   "execution_count": 18,
   "id": "83507521-1976-4c56-9d26-da8ee7d2d6c9",
   "metadata": {},
   "outputs": [
    {
     "data": {
      "text/html": [
       "<div>\n",
       "<style scoped>\n",
       "    .dataframe tbody tr th:only-of-type {\n",
       "        vertical-align: middle;\n",
       "    }\n",
       "\n",
       "    .dataframe tbody tr th {\n",
       "        vertical-align: top;\n",
       "    }\n",
       "\n",
       "    .dataframe thead th {\n",
       "        text-align: right;\n",
       "    }\n",
       "</style>\n",
       "<table border=\"1\" class=\"dataframe\">\n",
       "  <thead>\n",
       "    <tr style=\"text-align: right;\">\n",
       "      <th></th>\n",
       "      <th>Artist ID</th>\n",
       "      <th>Name</th>\n",
       "      <th>Nationality</th>\n",
       "      <th>Gender</th>\n",
       "      <th>Birth Year</th>\n",
       "      <th>Death Year</th>\n",
       "      <th>Lived</th>\n",
       "    </tr>\n",
       "  </thead>\n",
       "  <tbody>\n",
       "    <tr>\n",
       "      <th>12486</th>\n",
       "      <td>38294</td>\n",
       "      <td>Union Paper Bag Machine Company, Philadelphia, PA</td>\n",
       "      <td>NaN</td>\n",
       "      <td>NaN</td>\n",
       "      <td>1869.0</td>\n",
       "      <td>1999.0</td>\n",
       "      <td>130.0</td>\n",
       "    </tr>\n",
       "    <tr>\n",
       "      <th>3449</th>\n",
       "      <td>3844</td>\n",
       "      <td>Leni Matthaei</td>\n",
       "      <td>German</td>\n",
       "      <td>Female</td>\n",
       "      <td>1873.0</td>\n",
       "      <td>1981.0</td>\n",
       "      <td>108.0</td>\n",
       "    </tr>\n",
       "    <tr>\n",
       "      <th>9164</th>\n",
       "      <td>23931</td>\n",
       "      <td>B. Efimov</td>\n",
       "      <td>Russian</td>\n",
       "      <td>Male</td>\n",
       "      <td>1900.0</td>\n",
       "      <td>2008.0</td>\n",
       "      <td>108.0</td>\n",
       "    </tr>\n",
       "    <tr>\n",
       "      <th>13568</th>\n",
       "      <td>43532</td>\n",
       "      <td>Manoel de Oliveira</td>\n",
       "      <td>Portuguese</td>\n",
       "      <td>NaN</td>\n",
       "      <td>1908.0</td>\n",
       "      <td>2015.0</td>\n",
       "      <td>107.0</td>\n",
       "    </tr>\n",
       "    <tr>\n",
       "      <th>9306</th>\n",
       "      <td>24431</td>\n",
       "      <td>Horacio Coppola</td>\n",
       "      <td>Argentine</td>\n",
       "      <td>Male</td>\n",
       "      <td>1906.0</td>\n",
       "      <td>2012.0</td>\n",
       "      <td>106.0</td>\n",
       "    </tr>\n",
       "    <tr>\n",
       "      <th>...</th>\n",
       "      <td>...</td>\n",
       "      <td>...</td>\n",
       "      <td>...</td>\n",
       "      <td>...</td>\n",
       "      <td>...</td>\n",
       "      <td>...</td>\n",
       "      <td>...</td>\n",
       "    </tr>\n",
       "    <tr>\n",
       "      <th>14570</th>\n",
       "      <td>48051</td>\n",
       "      <td>Memphis, Milan</td>\n",
       "      <td>NaN</td>\n",
       "      <td>NaN</td>\n",
       "      <td>1981.0</td>\n",
       "      <td>1985.0</td>\n",
       "      <td>4.0</td>\n",
       "    </tr>\n",
       "    <tr>\n",
       "      <th>14245</th>\n",
       "      <td>47019</td>\n",
       "      <td>Joy Division</td>\n",
       "      <td>British</td>\n",
       "      <td>NaN</td>\n",
       "      <td>1976.0</td>\n",
       "      <td>1980.0</td>\n",
       "      <td>4.0</td>\n",
       "    </tr>\n",
       "    <tr>\n",
       "      <th>14918</th>\n",
       "      <td>49496</td>\n",
       "      <td>Joshua Light Show</td>\n",
       "      <td>American</td>\n",
       "      <td>NaN</td>\n",
       "      <td>1967.0</td>\n",
       "      <td>1970.0</td>\n",
       "      <td>3.0</td>\n",
       "    </tr>\n",
       "    <tr>\n",
       "      <th>12496</th>\n",
       "      <td>38423</td>\n",
       "      <td>Save The Press Campaign</td>\n",
       "      <td>NaN</td>\n",
       "      <td>NaN</td>\n",
       "      <td>1988.0</td>\n",
       "      <td>1990.0</td>\n",
       "      <td>2.0</td>\n",
       "    </tr>\n",
       "    <tr>\n",
       "      <th>12109</th>\n",
       "      <td>36946</td>\n",
       "      <td>Hi Red Center</td>\n",
       "      <td>NaN</td>\n",
       "      <td>NaN</td>\n",
       "      <td>1963.0</td>\n",
       "      <td>1964.0</td>\n",
       "      <td>1.0</td>\n",
       "    </tr>\n",
       "  </tbody>\n",
       "</table>\n",
       "<p>4566 rows × 7 columns</p>\n",
       "</div>"
      ],
      "text/plain": [
       "       Artist ID                                               Name  \\\n",
       "12486      38294  Union Paper Bag Machine Company, Philadelphia, PA   \n",
       "3449        3844                                      Leni Matthaei   \n",
       "9164       23931                                          B. Efimov   \n",
       "13568      43532                                 Manoel de Oliveira   \n",
       "9306       24431                                    Horacio Coppola   \n",
       "...          ...                                                ...   \n",
       "14570      48051                                     Memphis, Milan   \n",
       "14245      47019                                       Joy Division   \n",
       "14918      49496                                  Joshua Light Show   \n",
       "12496      38423                            Save The Press Campaign   \n",
       "12109      36946                                      Hi Red Center   \n",
       "\n",
       "      Nationality  Gender  Birth Year  Death Year  Lived  \n",
       "12486         NaN     NaN      1869.0      1999.0  130.0  \n",
       "3449       German  Female      1873.0      1981.0  108.0  \n",
       "9164      Russian    Male      1900.0      2008.0  108.0  \n",
       "13568  Portuguese     NaN      1908.0      2015.0  107.0  \n",
       "9306    Argentine    Male      1906.0      2012.0  106.0  \n",
       "...           ...     ...         ...         ...    ...  \n",
       "14570         NaN     NaN      1981.0      1985.0    4.0  \n",
       "14245     British     NaN      1976.0      1980.0    4.0  \n",
       "14918    American     NaN      1967.0      1970.0    3.0  \n",
       "12496         NaN     NaN      1988.0      1990.0    2.0  \n",
       "12109         NaN     NaN      1963.0      1964.0    1.0  \n",
       "\n",
       "[4566 rows x 7 columns]"
      ]
     },
     "execution_count": 18,
     "metadata": {},
     "output_type": "execute_result"
    }
   ],
   "source": [
    "# Order by lived years, in a descending order the df.\n",
    "dfa1.sort_values(by='Lived', ascending=False)"
   ]
  },
  {
   "cell_type": "markdown",
   "id": "e28eb8b3-db05-4fa6-b7be-f22fcbcc835f",
   "metadata": {},
   "source": [
    "__________"
   ]
  },
  {
   "cell_type": "markdown",
   "id": "5d575579-72a9-4d0b-9b34-5da7a1059692",
   "metadata": {},
   "source": [
    "With this line of code we see that the results in ascending order leads us to:\n",
    "\n",
    "`1st position` Union Paper Bag Machine Company having lived **130 years** \n",
    "\n",
    "`2nd position`Leni Matthaei with **108 years lived***\n",
    "\n",
    "_*After a quick search on Google we confirm that Leni Matthaei lived 108 years_"
   ]
  },
  {
   "cell_type": "markdown",
   "id": "02cccc50-d6b3-4bff-ab72-644cfabd2e98",
   "metadata": {},
   "source": [
    "________"
   ]
  },
  {
   "cell_type": "markdown",
   "id": "c9c51210-d431-4bcb-af50-528bb2472eb0",
   "metadata": {
    "jp-MarkdownHeadingCollapsed": true
   },
   "source": [
    "##     2. Who are the top 10 artists by the number of artworks?\n"
   ]
  },
  {
   "cell_type": "code",
   "execution_count": 19,
   "id": "637d8e03-d8fc-44ca-843f-9f8235eb5c2a",
   "metadata": {},
   "outputs": [],
   "source": [
    "dfb2 = dfb.copy()"
   ]
  },
  {
   "cell_type": "code",
   "execution_count": 20,
   "id": "bf46b704-48cb-46a0-8ebe-fa531c910a88",
   "metadata": {},
   "outputs": [],
   "source": [
    "# We saw that all the artworks have an artist name so we have no nulls on names therefore we can proceed to\n",
    "# Create a list with the artists names\n",
    "artists_list = list(dfb2.Name.unique())"
   ]
  },
  {
   "cell_type": "code",
   "execution_count": 21,
   "id": "02aaf224-d2d7-469f-9fda-0b34408ba5be",
   "metadata": {},
   "outputs": [
    {
     "data": {
      "text/plain": [
       "13531"
      ]
     },
     "execution_count": 21,
     "metadata": {},
     "output_type": "execute_result"
    }
   ],
   "source": [
    "# We have 13531 different artists (we have ~ 130K artworks)\n",
    "len(artists_list)"
   ]
  },
  {
   "cell_type": "code",
   "execution_count": 22,
   "id": "0443a3dc-2389-41d4-b310-4dedd8da326c",
   "metadata": {},
   "outputs": [
    {
     "data": {
      "text/plain": [
       "Eugène Atget                5050\n",
       "Louise Bourgeois            3318\n",
       "Ludwig Mies van der Rohe    2566\n",
       "Unknown photographer        1575\n",
       "Jean Dubuffet               1435\n",
       "Lee Friedlander             1317\n",
       "Pablo Picasso               1310\n",
       "Marc Chagall                1162\n",
       "Henri Matisse               1063\n",
       "Pierre Bonnard               894\n",
       "Name: Name, dtype: int64"
      ]
     },
     "execution_count": 22,
     "metadata": {},
     "output_type": "execute_result"
    }
   ],
   "source": [
    "# This will give us the response to the question\n",
    "dfb2['Name'].value_counts().head(10)"
   ]
  },
  {
   "cell_type": "markdown",
   "id": "4ed3283f-3001-405e-9699-fa2e2acaafc5",
   "metadata": {
    "jp-MarkdownHeadingCollapsed": true
   },
   "source": [
    "##    3. Which artist is created the most artwork by total surface area?\n"
   ]
  },
  {
   "cell_type": "code",
   "execution_count": 23,
   "id": "3a696190-c866-478c-89c5-9e16d67a3f12",
   "metadata": {},
   "outputs": [],
   "source": [
    "dfb3 = dfb.copy()"
   ]
  },
  {
   "cell_type": "code",
   "execution_count": 24,
   "id": "ae0bf14b-affe-4c02-9b40-574f12ec5897",
   "metadata": {},
   "outputs": [
    {
     "data": {
      "text/html": [
       "<div>\n",
       "<style scoped>\n",
       "    .dataframe tbody tr th:only-of-type {\n",
       "        vertical-align: middle;\n",
       "    }\n",
       "\n",
       "    .dataframe tbody tr th {\n",
       "        vertical-align: top;\n",
       "    }\n",
       "\n",
       "    .dataframe thead th {\n",
       "        text-align: right;\n",
       "    }\n",
       "</style>\n",
       "<table border=\"1\" class=\"dataframe\">\n",
       "  <thead>\n",
       "    <tr style=\"text-align: right;\">\n",
       "      <th></th>\n",
       "      <th>Artwork ID</th>\n",
       "      <th>Title</th>\n",
       "      <th>Artist ID</th>\n",
       "      <th>Name</th>\n",
       "      <th>Date</th>\n",
       "      <th>Medium</th>\n",
       "      <th>Dimensions</th>\n",
       "      <th>Acquisition Date</th>\n",
       "      <th>Credit</th>\n",
       "      <th>Catalogue</th>\n",
       "      <th>...</th>\n",
       "      <th>Classification</th>\n",
       "      <th>Object Number</th>\n",
       "      <th>Diameter (cm)</th>\n",
       "      <th>Circumference (cm)</th>\n",
       "      <th>Height (cm)</th>\n",
       "      <th>Length (cm)</th>\n",
       "      <th>Width (cm)</th>\n",
       "      <th>Depth (cm)</th>\n",
       "      <th>Weight (kg)</th>\n",
       "      <th>Duration (s)</th>\n",
       "    </tr>\n",
       "  </thead>\n",
       "  <tbody>\n",
       "    <tr>\n",
       "      <th>0</th>\n",
       "      <td>2</td>\n",
       "      <td>Ferdinandsbrücke Project, Vienna, Austria, Ele...</td>\n",
       "      <td>6210</td>\n",
       "      <td>Otto Wagner</td>\n",
       "      <td>1896</td>\n",
       "      <td>Ink and cut-and-pasted painted pages on paper</td>\n",
       "      <td>19 1/8 x 66 1/2\" (48.6 x 168.9 cm)</td>\n",
       "      <td>1996-04-09</td>\n",
       "      <td>Fractional and promised gift of Jo Carole and ...</td>\n",
       "      <td>Y</td>\n",
       "      <td>...</td>\n",
       "      <td>Architecture</td>\n",
       "      <td>885.1996</td>\n",
       "      <td>NaN</td>\n",
       "      <td>NaN</td>\n",
       "      <td>48.6</td>\n",
       "      <td>NaN</td>\n",
       "      <td>168.9</td>\n",
       "      <td>NaN</td>\n",
       "      <td>NaN</td>\n",
       "      <td>NaN</td>\n",
       "    </tr>\n",
       "  </tbody>\n",
       "</table>\n",
       "<p>1 rows × 21 columns</p>\n",
       "</div>"
      ],
      "text/plain": [
       "   Artwork ID                                              Title Artist ID  \\\n",
       "0           2  Ferdinandsbrücke Project, Vienna, Austria, Ele...      6210   \n",
       "\n",
       "          Name  Date                                         Medium  \\\n",
       "0  Otto Wagner  1896  Ink and cut-and-pasted painted pages on paper   \n",
       "\n",
       "                           Dimensions Acquisition Date  \\\n",
       "0  19 1/8 x 66 1/2\" (48.6 x 168.9 cm)       1996-04-09   \n",
       "\n",
       "                                              Credit Catalogue  ...  \\\n",
       "0  Fractional and promised gift of Jo Carole and ...         Y  ...   \n",
       "\n",
       "  Classification Object Number Diameter (cm)  Circumference (cm)  Height (cm)  \\\n",
       "0   Architecture      885.1996           NaN                 NaN         48.6   \n",
       "\n",
       "   Length (cm)  Width (cm)  Depth (cm)  Weight (kg)  Duration (s)  \n",
       "0          NaN       168.9         NaN          NaN           NaN  \n",
       "\n",
       "[1 rows x 21 columns]"
      ]
     },
     "execution_count": 24,
     "metadata": {},
     "output_type": "execute_result"
    }
   ],
   "source": [
    "dfb3.head(1)"
   ]
  },
  {
   "cell_type": "code",
   "execution_count": 25,
   "id": "e05a806d-2b57-4e5b-b2f7-f084524165b0",
   "metadata": {},
   "outputs": [],
   "source": [
    "# Drop null row where we do not have the artist name as we need it to answer our question\n",
    "dfb3.dropna(subset=['Name'], inplace=True)"
   ]
  },
  {
   "cell_type": "markdown",
   "id": "88e51c2d-1b33-4b5e-953d-d73ed1ef4205",
   "metadata": {
    "jp-MarkdownHeadingCollapsed": true
   },
   "source": [
    "Taking into account that 14% of thte data has the Height value missing, we will only operate with the ones that we have the measurements\n",
    "\n",
    "In case we wouldn't have the Height neither the Width columns, we would have to extract that information from the Dimensions column as it follows:\n",
    "* Get the information we have in our column 'Dimensions' inside the ( ) and once we have it, we will have to split that by the numers separated by the 'x'.\n",
    "* Later we calculate the surface of the artwork and then we will add all the surfaces of the same artist and get the one with the biggest surface area."
   ]
  },
  {
   "cell_type": "markdown",
   "id": "bb805de3-3030-4b4a-bf29-76f99833cf61",
   "metadata": {},
   "source": [
    "As we have different types of artworks, they are calculated differently, so we will calculate the surface with the data provided by the dataset as it follows:\n",
    "\n",
    "* Rectangular forms (paints mostly): Height * Width\n",
    "* "
   ]
  },
  {
   "cell_type": "code",
   "execution_count": 26,
   "id": "3c1076d2-0fc9-4add-9733-80011988b222",
   "metadata": {},
   "outputs": [
    {
     "data": {
      "text/plain": [
       "(127405, 21)"
      ]
     },
     "execution_count": 26,
     "metadata": {},
     "output_type": "execute_result"
    }
   ],
   "source": [
    "# We have the 98.92% of the artworks with Nans or 0 values in Diameter or Circumference, therefore we will calculate the \n",
    "dfb3[(dfb3['Diameter (cm)'].isnull() | dfb3['Diameter (cm)'].eq(0)) & (dfb3['Circumference (cm)'].isnull() | dfb3['Circumference (cm)'].eq(0))].shape"
   ]
  },
  {
   "cell_type": "code",
   "execution_count": 27,
   "id": "296f7f3c-0376-4f0c-9b0e-c3a13e149311",
   "metadata": {},
   "outputs": [
    {
     "data": {
      "text/plain": [
       "1.0004425397121162"
      ]
     },
     "execution_count": 27,
     "metadata": {},
     "output_type": "execute_result"
    }
   ],
   "source": [
    "128859 /dfb3.shape[0]"
   ]
  },
  {
   "cell_type": "code",
   "execution_count": 28,
   "id": "7607380d-fc8b-4369-94e6-d992394c5395",
   "metadata": {},
   "outputs": [],
   "source": [
    "#Function that multiplies height and width if they are not null\n",
    "def surface_calc(row):\n",
    "    if not pd.isnull(row['Height (cm)']) and not pd.isnull(row['Width (cm)']):\n",
    "        return row['Height (cm)'] * row['Width (cm)']\n",
    "    elif not pd.isnull(row['Height (cm)']) and not pd.isnull(row['Width (cm)']) and not pd.isnull(row['Depth (cm)']):    \n",
    "        return 2 * (row['Height (cm)'] * row['Width (cm)'] + row['Width (cm)'] * row['Depth (cm)'] + row['Height (cm)'] * row['Depth (cm)'])\n",
    "    elif not pd.isnull(row['Diameter (cm)']):\n",
    "        diameter = row['Diameter (cm)']\n",
    "        radius = diameter / 2\n",
    "        surface_area = 4 * np.pi * (radius ** 2)\n",
    "        return surface_area\n",
    "    elif not pd.isnull(row['Circumference (cm)']):\n",
    "        circumference = row['Circumference (cm)']\n",
    "        radius = circumference / (2 * np.pi)\n",
    "        surface_area = np.pi * (radius ** 2)\n",
    "        return surface_area\n",
    "    else:\n",
    "        return np.nan\n",
    "# Creat a column where we apply the function\n",
    "dfb3['Surface (cm^2)'] = dfb3.apply(surface_calc, axis=1).round(2) #  apply pasa automáticamente cada fila del DataFrame a la función surface_calc como parámetro. \n",
    "dfb3['Surface (m^2)'] = (dfb3['Surface (cm^2)']/10000).round(2)"
   ]
  },
  {
   "cell_type": "code",
   "execution_count": 29,
   "id": "6b50f060-5e9f-4531-90c7-81d27225830c",
   "metadata": {},
   "outputs": [
    {
     "data": {
      "text/html": [
       "<div>\n",
       "<style scoped>\n",
       "    .dataframe tbody tr th:only-of-type {\n",
       "        vertical-align: middle;\n",
       "    }\n",
       "\n",
       "    .dataframe tbody tr th {\n",
       "        vertical-align: top;\n",
       "    }\n",
       "\n",
       "    .dataframe thead th {\n",
       "        text-align: right;\n",
       "    }\n",
       "</style>\n",
       "<table border=\"1\" class=\"dataframe\">\n",
       "  <thead>\n",
       "    <tr style=\"text-align: right;\">\n",
       "      <th></th>\n",
       "      <th>Artwork ID</th>\n",
       "      <th>Title</th>\n",
       "      <th>Artist ID</th>\n",
       "      <th>Name</th>\n",
       "      <th>Date</th>\n",
       "      <th>Medium</th>\n",
       "      <th>Dimensions</th>\n",
       "      <th>Acquisition Date</th>\n",
       "      <th>Credit</th>\n",
       "      <th>Catalogue</th>\n",
       "      <th>...</th>\n",
       "      <th>Diameter (cm)</th>\n",
       "      <th>Circumference (cm)</th>\n",
       "      <th>Height (cm)</th>\n",
       "      <th>Length (cm)</th>\n",
       "      <th>Width (cm)</th>\n",
       "      <th>Depth (cm)</th>\n",
       "      <th>Weight (kg)</th>\n",
       "      <th>Duration (s)</th>\n",
       "      <th>Surface (cm^2)</th>\n",
       "      <th>Surface (m^2)</th>\n",
       "    </tr>\n",
       "  </thead>\n",
       "  <tbody>\n",
       "    <tr>\n",
       "      <th>33718</th>\n",
       "      <td>35639</td>\n",
       "      <td>Untitled</td>\n",
       "      <td>902</td>\n",
       "      <td>James Lee Byars</td>\n",
       "      <td>(1962-64)</td>\n",
       "      <td>Japanese handmade white flax paper, hinged and...</td>\n",
       "      <td>Folded: 36 x 36 x 3\" (91 x 91 x 7.6 cm) Unfold...</td>\n",
       "      <td>1966-06-07</td>\n",
       "      <td>Gift of the artist</td>\n",
       "      <td>Y</td>\n",
       "      <td>...</td>\n",
       "      <td>274.3</td>\n",
       "      <td>NaN</td>\n",
       "      <td>1097.3</td>\n",
       "      <td>NaN</td>\n",
       "      <td>9144.0</td>\n",
       "      <td>NaN</td>\n",
       "      <td>NaN</td>\n",
       "      <td>NaN</td>\n",
       "      <td>10033711.2</td>\n",
       "      <td>1003.37</td>\n",
       "    </tr>\n",
       "  </tbody>\n",
       "</table>\n",
       "<p>1 rows × 23 columns</p>\n",
       "</div>"
      ],
      "text/plain": [
       "       Artwork ID     Title Artist ID             Name       Date  \\\n",
       "33718       35639  Untitled       902  James Lee Byars  (1962-64)   \n",
       "\n",
       "                                                  Medium  \\\n",
       "33718  Japanese handmade white flax paper, hinged and...   \n",
       "\n",
       "                                              Dimensions Acquisition Date  \\\n",
       "33718  Folded: 36 x 36 x 3\" (91 x 91 x 7.6 cm) Unfold...       1966-06-07   \n",
       "\n",
       "                   Credit Catalogue  ... Diameter (cm) Circumference (cm)  \\\n",
       "33718  Gift of the artist         Y  ...         274.3                NaN   \n",
       "\n",
       "      Height (cm)  Length (cm)  Width (cm)  Depth (cm)  Weight (kg)  \\\n",
       "33718      1097.3          NaN      9144.0         NaN          NaN   \n",
       "\n",
       "       Duration (s)  Surface (cm^2)  Surface (m^2)  \n",
       "33718           NaN      10033711.2        1003.37  \n",
       "\n",
       "[1 rows x 23 columns]"
      ]
     },
     "execution_count": 29,
     "metadata": {},
     "output_type": "execute_result"
    }
   ],
   "source": [
    "# We have the artwork with the biggest surface\n",
    "dfb3.sort_values(by='Surface (m^2)', ascending=False).head(1)"
   ]
  },
  {
   "cell_type": "markdown",
   "id": "69400b62-52f9-4313-8f3b-3fcb667f7299",
   "metadata": {},
   "source": [
    "##    4. Did any artists have artwork acquired during their lifetime?\n"
   ]
  },
  {
   "cell_type": "code",
   "execution_count": 25,
   "id": "8c52a511-105a-4e3d-9f2a-b382fd0e2db6",
   "metadata": {},
   "outputs": [],
   "source": [
    "dfb4 = dfb.copy()\n",
    "dfa4 = dfa.copy()"
   ]
  },
  {
   "cell_type": "code",
   "execution_count": 26,
   "id": "9682beb1-d0d5-42ef-9fc8-14df35c365bd",
   "metadata": {},
   "outputs": [
    {
     "data": {
      "text/html": [
       "<div>\n",
       "<style scoped>\n",
       "    .dataframe tbody tr th:only-of-type {\n",
       "        vertical-align: middle;\n",
       "    }\n",
       "\n",
       "    .dataframe tbody tr th {\n",
       "        vertical-align: top;\n",
       "    }\n",
       "\n",
       "    .dataframe thead th {\n",
       "        text-align: right;\n",
       "    }\n",
       "</style>\n",
       "<table border=\"1\" class=\"dataframe\">\n",
       "  <thead>\n",
       "    <tr style=\"text-align: right;\">\n",
       "      <th></th>\n",
       "      <th>Artist ID</th>\n",
       "      <th>Name</th>\n",
       "      <th>Nationality</th>\n",
       "      <th>Gender</th>\n",
       "      <th>Birth Year</th>\n",
       "      <th>Death Year</th>\n",
       "    </tr>\n",
       "  </thead>\n",
       "  <tbody>\n",
       "    <tr>\n",
       "      <th>0</th>\n",
       "      <td>1</td>\n",
       "      <td>Robert Arneson</td>\n",
       "      <td>American</td>\n",
       "      <td>Male</td>\n",
       "      <td>1930.0</td>\n",
       "      <td>1992.0</td>\n",
       "    </tr>\n",
       "    <tr>\n",
       "      <th>1</th>\n",
       "      <td>2</td>\n",
       "      <td>Doroteo Arnaiz</td>\n",
       "      <td>Spanish</td>\n",
       "      <td>Male</td>\n",
       "      <td>1936.0</td>\n",
       "      <td>NaN</td>\n",
       "    </tr>\n",
       "    <tr>\n",
       "      <th>2</th>\n",
       "      <td>3</td>\n",
       "      <td>Bill Arnold</td>\n",
       "      <td>American</td>\n",
       "      <td>Male</td>\n",
       "      <td>1941.0</td>\n",
       "      <td>NaN</td>\n",
       "    </tr>\n",
       "    <tr>\n",
       "      <th>3</th>\n",
       "      <td>4</td>\n",
       "      <td>Charles Arnoldi</td>\n",
       "      <td>American</td>\n",
       "      <td>Male</td>\n",
       "      <td>1946.0</td>\n",
       "      <td>NaN</td>\n",
       "    </tr>\n",
       "    <tr>\n",
       "      <th>4</th>\n",
       "      <td>5</td>\n",
       "      <td>Per Arnoldi</td>\n",
       "      <td>Danish</td>\n",
       "      <td>Male</td>\n",
       "      <td>1941.0</td>\n",
       "      <td>NaN</td>\n",
       "    </tr>\n",
       "    <tr>\n",
       "      <th>...</th>\n",
       "      <td>...</td>\n",
       "      <td>...</td>\n",
       "      <td>...</td>\n",
       "      <td>...</td>\n",
       "      <td>...</td>\n",
       "      <td>...</td>\n",
       "    </tr>\n",
       "    <tr>\n",
       "      <th>15086</th>\n",
       "      <td>67452</td>\n",
       "      <td>Liu Jianhua</td>\n",
       "      <td>Chinese</td>\n",
       "      <td>Male</td>\n",
       "      <td>1962.0</td>\n",
       "      <td>NaN</td>\n",
       "    </tr>\n",
       "    <tr>\n",
       "      <th>15087</th>\n",
       "      <td>67453</td>\n",
       "      <td>Leng Lin</td>\n",
       "      <td>Chinese</td>\n",
       "      <td>Male</td>\n",
       "      <td>1965.0</td>\n",
       "      <td>NaN</td>\n",
       "    </tr>\n",
       "    <tr>\n",
       "      <th>15088</th>\n",
       "      <td>67652</td>\n",
       "      <td>Ellie Nagler</td>\n",
       "      <td>NaN</td>\n",
       "      <td>NaN</td>\n",
       "      <td>NaN</td>\n",
       "      <td>NaN</td>\n",
       "    </tr>\n",
       "    <tr>\n",
       "      <th>15089</th>\n",
       "      <td>67694</td>\n",
       "      <td>Glenn Williams</td>\n",
       "      <td>NaN</td>\n",
       "      <td>Male</td>\n",
       "      <td>NaN</td>\n",
       "      <td>NaN</td>\n",
       "    </tr>\n",
       "    <tr>\n",
       "      <th>15090</th>\n",
       "      <td>67695</td>\n",
       "      <td>Ely Ramen</td>\n",
       "      <td>NaN</td>\n",
       "      <td>NaN</td>\n",
       "      <td>NaN</td>\n",
       "      <td>NaN</td>\n",
       "    </tr>\n",
       "  </tbody>\n",
       "</table>\n",
       "<p>15091 rows × 6 columns</p>\n",
       "</div>"
      ],
      "text/plain": [
       "       Artist ID             Name Nationality Gender  Birth Year  Death Year\n",
       "0              1   Robert Arneson    American   Male      1930.0      1992.0\n",
       "1              2   Doroteo Arnaiz     Spanish   Male      1936.0         NaN\n",
       "2              3      Bill Arnold    American   Male      1941.0         NaN\n",
       "3              4  Charles Arnoldi    American   Male      1946.0         NaN\n",
       "4              5      Per Arnoldi      Danish   Male      1941.0         NaN\n",
       "...          ...              ...         ...    ...         ...         ...\n",
       "15086      67452      Liu Jianhua     Chinese   Male      1962.0         NaN\n",
       "15087      67453         Leng Lin     Chinese   Male      1965.0         NaN\n",
       "15088      67652     Ellie Nagler         NaN    NaN         NaN         NaN\n",
       "15089      67694   Glenn Williams         NaN   Male         NaN         NaN\n",
       "15090      67695        Ely Ramen         NaN    NaN         NaN         NaN\n",
       "\n",
       "[15091 rows x 6 columns]"
      ]
     },
     "execution_count": 26,
     "metadata": {},
     "output_type": "execute_result"
    }
   ],
   "source": [
    "dfa4"
   ]
  },
  {
   "cell_type": "code",
   "execution_count": 27,
   "id": "181cd7e6-ab5c-4a69-bc21-f8b2bbb1cafc",
   "metadata": {},
   "outputs": [
    {
     "data": {
      "text/plain": [
       "Index(['Artwork ID', 'Title', 'Artist ID', 'Name', 'Date', 'Medium',\n",
       "       'Dimensions', 'Acquisition Date', 'Credit', 'Catalogue', 'Department',\n",
       "       'Classification', 'Object Number', 'Diameter (cm)',\n",
       "       'Circumference (cm)', 'Height (cm)', 'Length (cm)', 'Width (cm)',\n",
       "       'Depth (cm)', 'Weight (kg)', 'Duration (s)'],\n",
       "      dtype='object')"
      ]
     },
     "execution_count": 27,
     "metadata": {},
     "output_type": "execute_result"
    }
   ],
   "source": [
    "dfb4.columns"
   ]
  },
  {
   "cell_type": "code",
   "execution_count": 28,
   "id": "c9a3dad1-da6a-4e2e-be98-9878334e67f7",
   "metadata": {},
   "outputs": [],
   "source": [
    "# Drop the columns we do not need for answering this question\n",
    "\n",
    "dfb4.drop(columns=['Credit', 'Catalogue', 'Department',\n",
    "       'Classification', 'Object Number', 'Diameter (cm)',\n",
    "       'Circumference (cm)', 'Height (cm)', 'Length (cm)', 'Width (cm)',\n",
    "       'Depth (cm)', 'Weight (kg)', 'Duration (s)', 'Medium','Dimensions' ], inplace=True)\n",
    "\n",
    "# Drop the rows that do not have the Acquisition Date or the Artist name\n",
    "\n",
    "dfb4.dropna(subset=['Acquisition Date','Name'  ], inplace=True)"
   ]
  },
  {
   "cell_type": "code",
   "execution_count": 29,
   "id": "4fbcb3e4-d3d0-414a-b306-2138be7991db",
   "metadata": {},
   "outputs": [
    {
     "data": {
      "text/plain": [
       "Index(['Artist ID', 'Name', 'Nationality', 'Gender', 'Birth Year',\n",
       "       'Death Year'],\n",
       "      dtype='object')"
      ]
     },
     "execution_count": 29,
     "metadata": {},
     "output_type": "execute_result"
    }
   ],
   "source": [
    "dfa4.columns"
   ]
  },
  {
   "cell_type": "code",
   "execution_count": 30,
   "id": "8a3389cc-53d3-4a0d-9183-9cb0c634ddef",
   "metadata": {},
   "outputs": [],
   "source": [
    "# Drop the columns we do not need for answering this question\n",
    "dfa4.drop(columns = ['Nationality', 'Gender'])\n",
    "\n",
    "# Drop the rows with a missing value on one of this\n",
    "dfa4.drop(columns=['Gender', 'Nationality' ], inplace=True)"
   ]
  },
  {
   "cell_type": "code",
   "execution_count": 31,
   "id": "a0cdc080-3d52-422d-ac22-2c14fadd4213",
   "metadata": {},
   "outputs": [],
   "source": [
    "# As we are going to operate with dates, we need to have everything in the same format"
   ]
  },
  {
   "cell_type": "code",
   "execution_count": 32,
   "id": "4eb2b8c8-3613-441f-937f-1704e6c3cabe",
   "metadata": {},
   "outputs": [
    {
     "data": {
      "text/plain": [
       "0         1996-04-09\n",
       "1         1995-01-17\n",
       "2         1997-01-15\n",
       "3         1995-01-17\n",
       "4         1997-01-15\n",
       "             ...    \n",
       "130254    2008-10-08\n",
       "130256    2008-10-08\n",
       "130257    2008-10-08\n",
       "130259    2008-10-08\n",
       "130261    2008-10-08\n",
       "Name: Acquisition Date, Length: 123494, dtype: object"
      ]
     },
     "execution_count": 32,
     "metadata": {},
     "output_type": "execute_result"
    }
   ],
   "source": [
    "# The column \"Acquisition Date\" is not a float as it is the \n",
    "dfb4[\"Acquisition Date\"]"
   ]
  },
  {
   "cell_type": "code",
   "execution_count": 33,
   "id": "1318435c-bb64-4c0c-8d31-33e39d52c1c2",
   "metadata": {},
   "outputs": [],
   "source": [
    "# We are going to extract the year of Acquisition from the Acquisition Date so we can see if it is in between the Birth Year and the Death Year\n",
    "dfb4[\"Acquisition_Year\"] = dfb4[\"Acquisition Date\"].str.slice(0, 4)"
   ]
  },
  {
   "cell_type": "code",
   "execution_count": 34,
   "id": "8c8757ec-53b3-4aaf-9f4f-d76b63f304a3",
   "metadata": {},
   "outputs": [],
   "source": [
    "# We convert from float to int the column BirthYear after eliminating the ones we do not have\n",
    "\n",
    "dfa4.dropna(subset=['Birth Year'], inplace=True)\n",
    "dfa4['Birth Year'] = dfa4['Birth Year'].astype(int)"
   ]
  },
  {
   "cell_type": "code",
   "execution_count": 35,
   "id": "da64c8ff-f8fa-400d-b3c1-414396d3b2bd",
   "metadata": {},
   "outputs": [],
   "source": [
    "# We fill the Death Year with 2024 and we will see from the result how can we proceed from there\n",
    "# We also convert all values from float to int\n",
    "dfa4['Death Year'] = dfa4['Death Year'].fillna(2024)\n",
    "dfa4['Death Year'] = dfa4['Death Year'].astype(int)"
   ]
  },
  {
   "cell_type": "code",
   "execution_count": 36,
   "id": "da19da93-a71e-443c-a969-788f3b5060b0",
   "metadata": {},
   "outputs": [
    {
     "data": {
      "text/html": [
       "<div>\n",
       "<style scoped>\n",
       "    .dataframe tbody tr th:only-of-type {\n",
       "        vertical-align: middle;\n",
       "    }\n",
       "\n",
       "    .dataframe tbody tr th {\n",
       "        vertical-align: top;\n",
       "    }\n",
       "\n",
       "    .dataframe thead th {\n",
       "        text-align: right;\n",
       "    }\n",
       "</style>\n",
       "<table border=\"1\" class=\"dataframe\">\n",
       "  <thead>\n",
       "    <tr style=\"text-align: right;\">\n",
       "      <th></th>\n",
       "      <th>Artwork ID</th>\n",
       "      <th>Title</th>\n",
       "      <th>Artist ID</th>\n",
       "      <th>Name</th>\n",
       "      <th>Date</th>\n",
       "      <th>Acquisition Date</th>\n",
       "      <th>Acquisition_Year</th>\n",
       "    </tr>\n",
       "  </thead>\n",
       "  <tbody>\n",
       "    <tr>\n",
       "      <th>32062</th>\n",
       "      <td>33599</td>\n",
       "      <td>Study for Head Bath</td>\n",
       "      <td>1</td>\n",
       "      <td>Robert Arneson</td>\n",
       "      <td>1977</td>\n",
       "      <td>1981-04-28</td>\n",
       "      <td>1981</td>\n",
       "    </tr>\n",
       "    <tr>\n",
       "      <th>60218</th>\n",
       "      <td>64139</td>\n",
       "      <td>General Nuke</td>\n",
       "      <td>1</td>\n",
       "      <td>Robert Arneson</td>\n",
       "      <td>1986</td>\n",
       "      <td>1997-05-28</td>\n",
       "      <td>1997</td>\n",
       "    </tr>\n",
       "    <tr>\n",
       "      <th>60378</th>\n",
       "      <td>64320</td>\n",
       "      <td>Moon Night</td>\n",
       "      <td>10</td>\n",
       "      <td>Irene Aronson</td>\n",
       "      <td>1951</td>\n",
       "      <td>1952-11-07</td>\n",
       "      <td>1952</td>\n",
       "    </tr>\n",
       "    <tr>\n",
       "      <th>64593</th>\n",
       "      <td>68977</td>\n",
       "      <td>Self Portrait - 55 Division Street</td>\n",
       "      <td>100</td>\n",
       "      <td>Ivan Le Lorraine Albright</td>\n",
       "      <td>1947</td>\n",
       "      <td>1953-06-22</td>\n",
       "      <td>1953</td>\n",
       "    </tr>\n",
       "    <tr>\n",
       "      <th>75099</th>\n",
       "      <td>81066</td>\n",
       "      <td>The Artist's Father</td>\n",
       "      <td>100</td>\n",
       "      <td>Ivan Le Lorraine Albright</td>\n",
       "      <td>1935 (cast 1952)</td>\n",
       "      <td>1952-10-21</td>\n",
       "      <td>1952</td>\n",
       "    </tr>\n",
       "    <tr>\n",
       "      <th>...</th>\n",
       "      <td>...</td>\n",
       "      <td>...</td>\n",
       "      <td>...</td>\n",
       "      <td>...</td>\n",
       "      <td>...</td>\n",
       "      <td>...</td>\n",
       "      <td>...</td>\n",
       "    </tr>\n",
       "    <tr>\n",
       "      <th>3297</th>\n",
       "      <td>4214</td>\n",
       "      <td>Tumbler</td>\n",
       "      <td>9972</td>\n",
       "      <td>Hemco Plastics Div. of Bryant Electrical Co., ...</td>\n",
       "      <td>c. 1939</td>\n",
       "      <td>1939-12-01</td>\n",
       "      <td>1939</td>\n",
       "    </tr>\n",
       "    <tr>\n",
       "      <th>1731</th>\n",
       "      <td>2489</td>\n",
       "      <td>Dictating Unit (model 274)</td>\n",
       "      <td>9973</td>\n",
       "      <td>Eliot Noyes and Associates</td>\n",
       "      <td>1971</td>\n",
       "      <td>1973-05-08</td>\n",
       "      <td>1973</td>\n",
       "    </tr>\n",
       "    <tr>\n",
       "      <th>2480</th>\n",
       "      <td>3346</td>\n",
       "      <td>Executary Transcribing Machine (model 272)</td>\n",
       "      <td>9973</td>\n",
       "      <td>Eliot Noyes and Associates</td>\n",
       "      <td>1966</td>\n",
       "      <td>1969-04-24</td>\n",
       "      <td>1969</td>\n",
       "    </tr>\n",
       "    <tr>\n",
       "      <th>56935</th>\n",
       "      <td>60588</td>\n",
       "      <td>Jane Reed and Dora Hunt</td>\n",
       "      <td>998</td>\n",
       "      <td>Clarence H. Carter</td>\n",
       "      <td>1950</td>\n",
       "      <td>1953-01-30</td>\n",
       "      <td>1953</td>\n",
       "    </tr>\n",
       "    <tr>\n",
       "      <th>41542</th>\n",
       "      <td>44196</td>\n",
       "      <td>Tubercular Mother and Child</td>\n",
       "      <td>999</td>\n",
       "      <td>Paul Carter</td>\n",
       "      <td>c. 1937</td>\n",
       "      <td>1941-01-16</td>\n",
       "      <td>1941</td>\n",
       "    </tr>\n",
       "  </tbody>\n",
       "</table>\n",
       "<p>123494 rows × 7 columns</p>\n",
       "</div>"
      ],
      "text/plain": [
       "       Artwork ID                                       Title Artist ID  \\\n",
       "32062       33599                         Study for Head Bath         1   \n",
       "60218       64139                                General Nuke         1   \n",
       "60378       64320                                  Moon Night        10   \n",
       "64593       68977          Self Portrait - 55 Division Street       100   \n",
       "75099       81066                         The Artist's Father       100   \n",
       "...           ...                                         ...       ...   \n",
       "3297         4214                                     Tumbler      9972   \n",
       "1731         2489                  Dictating Unit (model 274)      9973   \n",
       "2480         3346  Executary Transcribing Machine (model 272)      9973   \n",
       "56935       60588                     Jane Reed and Dora Hunt       998   \n",
       "41542       44196                 Tubercular Mother and Child       999   \n",
       "\n",
       "                                                    Name              Date  \\\n",
       "32062                                     Robert Arneson              1977   \n",
       "60218                                     Robert Arneson              1986   \n",
       "60378                                      Irene Aronson              1951   \n",
       "64593                          Ivan Le Lorraine Albright              1947   \n",
       "75099                          Ivan Le Lorraine Albright  1935 (cast 1952)   \n",
       "...                                                  ...               ...   \n",
       "3297   Hemco Plastics Div. of Bryant Electrical Co., ...           c. 1939   \n",
       "1731                          Eliot Noyes and Associates              1971   \n",
       "2480                          Eliot Noyes and Associates              1966   \n",
       "56935                                 Clarence H. Carter              1950   \n",
       "41542                                        Paul Carter           c. 1937   \n",
       "\n",
       "      Acquisition Date Acquisition_Year  \n",
       "32062       1981-04-28             1981  \n",
       "60218       1997-05-28             1997  \n",
       "60378       1952-11-07             1952  \n",
       "64593       1953-06-22             1953  \n",
       "75099       1952-10-21             1952  \n",
       "...                ...              ...  \n",
       "3297        1939-12-01             1939  \n",
       "1731        1973-05-08             1973  \n",
       "2480        1969-04-24             1969  \n",
       "56935       1953-01-30             1953  \n",
       "41542       1941-01-16             1941  \n",
       "\n",
       "[123494 rows x 7 columns]"
      ]
     },
     "execution_count": 36,
     "metadata": {},
     "output_type": "execute_result"
    }
   ],
   "source": [
    "dfb4.sort_values(by='Artist ID', ascending=True)"
   ]
  },
  {
   "cell_type": "code",
   "execution_count": 37,
   "id": "bc3456d9-4cf3-4a1e-a71e-b29d51a87331",
   "metadata": {},
   "outputs": [
    {
     "data": {
      "text/plain": [
       "Index(['Artist ID', 'Name', 'Birth Year', 'Death Year'], dtype='object')"
      ]
     },
     "execution_count": 37,
     "metadata": {},
     "output_type": "execute_result"
    }
   ],
   "source": [
    "dfa4.columns"
   ]
  },
  {
   "cell_type": "code",
   "execution_count": 38,
   "id": "202b4339-1568-4c0c-be43-b73b45be6d92",
   "metadata": {},
   "outputs": [
    {
     "data": {
      "text/plain": [
       "Index(['Artwork ID', 'Title', 'Artist ID', 'Name', 'Date', 'Acquisition Date',\n",
       "       'Acquisition_Year'],\n",
       "      dtype='object')"
      ]
     },
     "execution_count": 38,
     "metadata": {},
     "output_type": "execute_result"
    }
   ],
   "source": [
    "dfb4.columns"
   ]
  },
  {
   "cell_type": "code",
   "execution_count": 39,
   "id": "b4c3d162-691a-42e2-b606-648d151d59cd",
   "metadata": {},
   "outputs": [],
   "source": [
    "dfa4['Artist ID'] = pd.to_numeric(dfa4['Artist ID'], errors='coerce')\n",
    "dfb4['Artist ID'] = pd.to_numeric(dfb4['Artist ID'], errors='coerce')"
   ]
  },
  {
   "cell_type": "code",
   "execution_count": 40,
   "id": "64a8d519-6f7e-4d84-9d86-86fea37fe1a9",
   "metadata": {},
   "outputs": [],
   "source": [
    "filas_con_nan = dfb4[dfb4['Artist ID'].isnull()]"
   ]
  },
  {
   "cell_type": "code",
   "execution_count": 41,
   "id": "ea659e2b-ab4e-4e12-a3ec-27a3200b5b30",
   "metadata": {},
   "outputs": [
    {
     "data": {
      "text/plain": [
       "(6251, 7)"
      ]
     },
     "execution_count": 41,
     "metadata": {},
     "output_type": "execute_result"
    }
   ],
   "source": [
    "filas_con_nan.shape # HAY QUE COPIAR LAS 6K FILAS Y PONERLES EL SEGUNDO NÚMERO, COPIANDO EL RESTO DE INFO IGUAL"
   ]
  },
  {
   "cell_type": "code",
   "execution_count": 42,
   "id": "6288632d-a954-44ae-9dca-54283b56a03e",
   "metadata": {},
   "outputs": [],
   "source": [
    "# Drop the null values from \n",
    "dfa4.dropna(subset=['Artist ID'], inplace=True)\n",
    "dfb4.dropna(subset=['Artist ID'], inplace=True)\n",
    "# We make sure that the Artist ID column from both dfs are the same type\n",
    "dfa4['Artist ID'] = dfa4['Artist ID'].astype('int64')\n",
    "dfb4['Artist ID'] = dfb4['Artist ID'].astype('int64')\n",
    "# We merge both datasets by the column Artist ID\n",
    "dfc4 = pd.merge(dfa4, dfb4, on='Artist ID', how='inner')"
   ]
  },
  {
   "cell_type": "code",
   "execution_count": 43,
   "id": "f7478a54-af86-4d63-9af8-08f8741cd4f7",
   "metadata": {},
   "outputs": [],
   "source": [
    "dfc4.drop(columns = [\"Acquisition Date\", 'Date'], inplace = True)"
   ]
  },
  {
   "cell_type": "code",
   "execution_count": null,
   "id": "f8d8589a-dc1f-4b5b-93ec-1777547a765e",
   "metadata": {},
   "outputs": [],
   "source": [
    "dfc4[\"Acquisition_Year\"] = dfc4[\"Acquisition_Year\"].astype('int64')"
   ]
  },
  {
   "cell_type": "code",
   "execution_count": 44,
   "id": "baab68c0-c922-42ac-86c2-66811c0eadbe",
   "metadata": {},
   "outputs": [
    {
     "data": {
      "text/html": [
       "<div>\n",
       "<style scoped>\n",
       "    .dataframe tbody tr th:only-of-type {\n",
       "        vertical-align: middle;\n",
       "    }\n",
       "\n",
       "    .dataframe tbody tr th {\n",
       "        vertical-align: top;\n",
       "    }\n",
       "\n",
       "    .dataframe thead th {\n",
       "        text-align: right;\n",
       "    }\n",
       "</style>\n",
       "<table border=\"1\" class=\"dataframe\">\n",
       "  <thead>\n",
       "    <tr style=\"text-align: right;\">\n",
       "      <th></th>\n",
       "      <th>Artist ID</th>\n",
       "      <th>Name_x</th>\n",
       "      <th>Birth Year</th>\n",
       "      <th>Death Year</th>\n",
       "      <th>Artwork ID</th>\n",
       "      <th>Title</th>\n",
       "      <th>Name_y</th>\n",
       "      <th>Acquisition_Year</th>\n",
       "    </tr>\n",
       "  </thead>\n",
       "  <tbody>\n",
       "    <tr>\n",
       "      <th>0</th>\n",
       "      <td>1</td>\n",
       "      <td>Robert Arneson</td>\n",
       "      <td>1930</td>\n",
       "      <td>1992</td>\n",
       "      <td>33599</td>\n",
       "      <td>Study for Head Bath</td>\n",
       "      <td>Robert Arneson</td>\n",
       "      <td>1981</td>\n",
       "    </tr>\n",
       "    <tr>\n",
       "      <th>1</th>\n",
       "      <td>1</td>\n",
       "      <td>Robert Arneson</td>\n",
       "      <td>1930</td>\n",
       "      <td>1992</td>\n",
       "      <td>64139</td>\n",
       "      <td>General Nuke</td>\n",
       "      <td>Robert Arneson</td>\n",
       "      <td>1997</td>\n",
       "    </tr>\n",
       "    <tr>\n",
       "      <th>2</th>\n",
       "      <td>2</td>\n",
       "      <td>Doroteo Arnaiz</td>\n",
       "      <td>1936</td>\n",
       "      <td>2024</td>\n",
       "      <td>61629</td>\n",
       "      <td>BAS-RELIEF</td>\n",
       "      <td>Doroteo Arnaiz</td>\n",
       "      <td>1965</td>\n",
       "    </tr>\n",
       "    <tr>\n",
       "      <th>3</th>\n",
       "      <td>3</td>\n",
       "      <td>Bill Arnold</td>\n",
       "      <td>1941</td>\n",
       "      <td>2024</td>\n",
       "      <td>45972</td>\n",
       "      <td>Honey under Sink</td>\n",
       "      <td>Bill Arnold</td>\n",
       "      <td>1972</td>\n",
       "    </tr>\n",
       "    <tr>\n",
       "      <th>4</th>\n",
       "      <td>3</td>\n",
       "      <td>Bill Arnold</td>\n",
       "      <td>1941</td>\n",
       "      <td>2024</td>\n",
       "      <td>45997</td>\n",
       "      <td>Honey under Chair</td>\n",
       "      <td>Bill Arnold</td>\n",
       "      <td>1972</td>\n",
       "    </tr>\n",
       "    <tr>\n",
       "      <th>...</th>\n",
       "      <td>...</td>\n",
       "      <td>...</td>\n",
       "      <td>...</td>\n",
       "      <td>...</td>\n",
       "      <td>...</td>\n",
       "      <td>...</td>\n",
       "      <td>...</td>\n",
       "      <td>...</td>\n",
       "    </tr>\n",
       "    <tr>\n",
       "      <th>110238</th>\n",
       "      <td>67352</td>\n",
       "      <td>Neelon Crawford</td>\n",
       "      <td>1946</td>\n",
       "      <td>2024</td>\n",
       "      <td>215740</td>\n",
       "      <td>Computer Graphics Lab Demo</td>\n",
       "      <td>Neelon Crawford</td>\n",
       "      <td>2016</td>\n",
       "    </tr>\n",
       "    <tr>\n",
       "      <th>110239</th>\n",
       "      <td>67352</td>\n",
       "      <td>Neelon Crawford</td>\n",
       "      <td>1946</td>\n",
       "      <td>2024</td>\n",
       "      <td>215741</td>\n",
       "      <td>The Vincent</td>\n",
       "      <td>Neelon Crawford</td>\n",
       "      <td>2016</td>\n",
       "    </tr>\n",
       "    <tr>\n",
       "      <th>110240</th>\n",
       "      <td>67352</td>\n",
       "      <td>Neelon Crawford</td>\n",
       "      <td>1946</td>\n",
       "      <td>2024</td>\n",
       "      <td>215742</td>\n",
       "      <td>Ground Zero with Rick Schmidt</td>\n",
       "      <td>Neelon Crawford</td>\n",
       "      <td>2016</td>\n",
       "    </tr>\n",
       "    <tr>\n",
       "      <th>110241</th>\n",
       "      <td>67379</td>\n",
       "      <td>N. Dash</td>\n",
       "      <td>1980</td>\n",
       "      <td>2024</td>\n",
       "      <td>215840</td>\n",
       "      <td>Hot Eye</td>\n",
       "      <td>N. Dash</td>\n",
       "      <td>2016</td>\n",
       "    </tr>\n",
       "    <tr>\n",
       "      <th>110242</th>\n",
       "      <td>67437</td>\n",
       "      <td>Sebastian Black</td>\n",
       "      <td>1985</td>\n",
       "      <td>2024</td>\n",
       "      <td>216351</td>\n",
       "      <td>Tails</td>\n",
       "      <td>Sebastian Black</td>\n",
       "      <td>2016</td>\n",
       "    </tr>\n",
       "  </tbody>\n",
       "</table>\n",
       "<p>110243 rows × 8 columns</p>\n",
       "</div>"
      ],
      "text/plain": [
       "        Artist ID           Name_x  Birth Year  Death Year  Artwork ID  \\\n",
       "0               1   Robert Arneson        1930        1992       33599   \n",
       "1               1   Robert Arneson        1930        1992       64139   \n",
       "2               2   Doroteo Arnaiz        1936        2024       61629   \n",
       "3               3      Bill Arnold        1941        2024       45972   \n",
       "4               3      Bill Arnold        1941        2024       45997   \n",
       "...           ...              ...         ...         ...         ...   \n",
       "110238      67352  Neelon Crawford        1946        2024      215740   \n",
       "110239      67352  Neelon Crawford        1946        2024      215741   \n",
       "110240      67352  Neelon Crawford        1946        2024      215742   \n",
       "110241      67379          N. Dash        1980        2024      215840   \n",
       "110242      67437  Sebastian Black        1985        2024      216351   \n",
       "\n",
       "                                Title           Name_y Acquisition_Year  \n",
       "0                 Study for Head Bath   Robert Arneson             1981  \n",
       "1                        General Nuke   Robert Arneson             1997  \n",
       "2                          BAS-RELIEF   Doroteo Arnaiz             1965  \n",
       "3                    Honey under Sink      Bill Arnold             1972  \n",
       "4                   Honey under Chair      Bill Arnold             1972  \n",
       "...                               ...              ...              ...  \n",
       "110238     Computer Graphics Lab Demo  Neelon Crawford             2016  \n",
       "110239                    The Vincent  Neelon Crawford             2016  \n",
       "110240  Ground Zero with Rick Schmidt  Neelon Crawford             2016  \n",
       "110241                        Hot Eye          N. Dash             2016  \n",
       "110242                          Tails  Sebastian Black             2016  \n",
       "\n",
       "[110243 rows x 8 columns]"
      ]
     },
     "execution_count": 44,
     "metadata": {},
     "output_type": "execute_result"
    }
   ],
   "source": [
    "dfc4"
   ]
  },
  {
   "cell_type": "code",
   "execution_count": 58,
   "id": "718b45f6-254b-44dc-95da-bf9c7399b097",
   "metadata": {},
   "outputs": [],
   "source": [
    "dfd4 = (dfc4['Acquisition_Year'] >= dfc4['Birth Year']) & (dfc4['Acquisition_Year'] <= dfc4['Death Year'])"
   ]
  },
  {
   "cell_type": "code",
   "execution_count": 59,
   "id": "f869312c-29be-45e0-8772-45a93ea31cdb",
   "metadata": {},
   "outputs": [],
   "source": [
    "dfd4 = pd.DataFrame(dfd4)"
   ]
  },
  {
   "cell_type": "code",
   "execution_count": 61,
   "id": "1d289191-bb84-49d1-bac0-899cc3a69f5d",
   "metadata": {},
   "outputs": [
    {
     "data": {
      "text/html": [
       "<div>\n",
       "<style scoped>\n",
       "    .dataframe tbody tr th:only-of-type {\n",
       "        vertical-align: middle;\n",
       "    }\n",
       "\n",
       "    .dataframe tbody tr th {\n",
       "        vertical-align: top;\n",
       "    }\n",
       "\n",
       "    .dataframe thead th {\n",
       "        text-align: right;\n",
       "    }\n",
       "</style>\n",
       "<table border=\"1\" class=\"dataframe\">\n",
       "  <thead>\n",
       "    <tr style=\"text-align: right;\">\n",
       "      <th></th>\n",
       "      <th>Artist ID</th>\n",
       "      <th>Name_x</th>\n",
       "      <th>Birth Year</th>\n",
       "      <th>Death Year</th>\n",
       "      <th>Artwork ID</th>\n",
       "      <th>Title</th>\n",
       "      <th>Name_y</th>\n",
       "      <th>Acquisition_Year</th>\n",
       "    </tr>\n",
       "  </thead>\n",
       "  <tbody>\n",
       "    <tr>\n",
       "      <th>0</th>\n",
       "      <td>1</td>\n",
       "      <td>Robert Arneson</td>\n",
       "      <td>1930</td>\n",
       "      <td>1992</td>\n",
       "      <td>33599</td>\n",
       "      <td>Study for Head Bath</td>\n",
       "      <td>Robert Arneson</td>\n",
       "      <td>1981</td>\n",
       "    </tr>\n",
       "    <tr>\n",
       "      <th>2</th>\n",
       "      <td>2</td>\n",
       "      <td>Doroteo Arnaiz</td>\n",
       "      <td>1936</td>\n",
       "      <td>2024</td>\n",
       "      <td>61629</td>\n",
       "      <td>BAS-RELIEF</td>\n",
       "      <td>Doroteo Arnaiz</td>\n",
       "      <td>1965</td>\n",
       "    </tr>\n",
       "    <tr>\n",
       "      <th>3</th>\n",
       "      <td>3</td>\n",
       "      <td>Bill Arnold</td>\n",
       "      <td>1941</td>\n",
       "      <td>2024</td>\n",
       "      <td>45972</td>\n",
       "      <td>Honey under Sink</td>\n",
       "      <td>Bill Arnold</td>\n",
       "      <td>1972</td>\n",
       "    </tr>\n",
       "    <tr>\n",
       "      <th>4</th>\n",
       "      <td>3</td>\n",
       "      <td>Bill Arnold</td>\n",
       "      <td>1941</td>\n",
       "      <td>2024</td>\n",
       "      <td>45997</td>\n",
       "      <td>Honey under Chair</td>\n",
       "      <td>Bill Arnold</td>\n",
       "      <td>1972</td>\n",
       "    </tr>\n",
       "    <tr>\n",
       "      <th>5</th>\n",
       "      <td>3</td>\n",
       "      <td>Bill Arnold</td>\n",
       "      <td>1941</td>\n",
       "      <td>2024</td>\n",
       "      <td>46023</td>\n",
       "      <td>Honey Walking Path</td>\n",
       "      <td>Bill Arnold</td>\n",
       "      <td>1972</td>\n",
       "    </tr>\n",
       "    <tr>\n",
       "      <th>...</th>\n",
       "      <td>...</td>\n",
       "      <td>...</td>\n",
       "      <td>...</td>\n",
       "      <td>...</td>\n",
       "      <td>...</td>\n",
       "      <td>...</td>\n",
       "      <td>...</td>\n",
       "      <td>...</td>\n",
       "    </tr>\n",
       "    <tr>\n",
       "      <th>110238</th>\n",
       "      <td>67352</td>\n",
       "      <td>Neelon Crawford</td>\n",
       "      <td>1946</td>\n",
       "      <td>2024</td>\n",
       "      <td>215740</td>\n",
       "      <td>Computer Graphics Lab Demo</td>\n",
       "      <td>Neelon Crawford</td>\n",
       "      <td>2016</td>\n",
       "    </tr>\n",
       "    <tr>\n",
       "      <th>110239</th>\n",
       "      <td>67352</td>\n",
       "      <td>Neelon Crawford</td>\n",
       "      <td>1946</td>\n",
       "      <td>2024</td>\n",
       "      <td>215741</td>\n",
       "      <td>The Vincent</td>\n",
       "      <td>Neelon Crawford</td>\n",
       "      <td>2016</td>\n",
       "    </tr>\n",
       "    <tr>\n",
       "      <th>110240</th>\n",
       "      <td>67352</td>\n",
       "      <td>Neelon Crawford</td>\n",
       "      <td>1946</td>\n",
       "      <td>2024</td>\n",
       "      <td>215742</td>\n",
       "      <td>Ground Zero with Rick Schmidt</td>\n",
       "      <td>Neelon Crawford</td>\n",
       "      <td>2016</td>\n",
       "    </tr>\n",
       "    <tr>\n",
       "      <th>110241</th>\n",
       "      <td>67379</td>\n",
       "      <td>N. Dash</td>\n",
       "      <td>1980</td>\n",
       "      <td>2024</td>\n",
       "      <td>215840</td>\n",
       "      <td>Hot Eye</td>\n",
       "      <td>N. Dash</td>\n",
       "      <td>2016</td>\n",
       "    </tr>\n",
       "    <tr>\n",
       "      <th>110242</th>\n",
       "      <td>67437</td>\n",
       "      <td>Sebastian Black</td>\n",
       "      <td>1985</td>\n",
       "      <td>2024</td>\n",
       "      <td>216351</td>\n",
       "      <td>Tails</td>\n",
       "      <td>Sebastian Black</td>\n",
       "      <td>2016</td>\n",
       "    </tr>\n",
       "  </tbody>\n",
       "</table>\n",
       "<p>72663 rows × 8 columns</p>\n",
       "</div>"
      ],
      "text/plain": [
       "        Artist ID           Name_x  Birth Year  Death Year  Artwork ID  \\\n",
       "0               1   Robert Arneson        1930        1992       33599   \n",
       "2               2   Doroteo Arnaiz        1936        2024       61629   \n",
       "3               3      Bill Arnold        1941        2024       45972   \n",
       "4               3      Bill Arnold        1941        2024       45997   \n",
       "5               3      Bill Arnold        1941        2024       46023   \n",
       "...           ...              ...         ...         ...         ...   \n",
       "110238      67352  Neelon Crawford        1946        2024      215740   \n",
       "110239      67352  Neelon Crawford        1946        2024      215741   \n",
       "110240      67352  Neelon Crawford        1946        2024      215742   \n",
       "110241      67379          N. Dash        1980        2024      215840   \n",
       "110242      67437  Sebastian Black        1985        2024      216351   \n",
       "\n",
       "                                Title           Name_y  Acquisition_Year  \n",
       "0                 Study for Head Bath   Robert Arneson              1981  \n",
       "2                          BAS-RELIEF   Doroteo Arnaiz              1965  \n",
       "3                    Honey under Sink      Bill Arnold              1972  \n",
       "4                   Honey under Chair      Bill Arnold              1972  \n",
       "5                  Honey Walking Path      Bill Arnold              1972  \n",
       "...                               ...              ...               ...  \n",
       "110238     Computer Graphics Lab Demo  Neelon Crawford              2016  \n",
       "110239                    The Vincent  Neelon Crawford              2016  \n",
       "110240  Ground Zero with Rick Schmidt  Neelon Crawford              2016  \n",
       "110241                        Hot Eye          N. Dash              2016  \n",
       "110242                          Tails  Sebastian Black              2016  \n",
       "\n",
       "[72663 rows x 8 columns]"
      ]
     },
     "execution_count": 61,
     "metadata": {},
     "output_type": "execute_result"
    }
   ],
   "source": [
    "rows = []\n",
    "for index, row in dfc4.iterrows():\n",
    "    if row['Acquisition_Year'] >= row['Birth Year'] and row['Acquisition_Year'] <= row['Death Year']:\n",
    "        rows.append(row)\n",
    "dfd4 = pd.DataFrame(rows)\n",
    "dfd4"
   ]
  },
  {
   "cell_type": "code",
   "execution_count": 64,
   "id": "114709e2-d44a-49bd-8ead-f4f9cdddace2",
   "metadata": {},
   "outputs": [
    {
     "data": {
      "text/html": [
       "<div>\n",
       "<style scoped>\n",
       "    .dataframe tbody tr th:only-of-type {\n",
       "        vertical-align: middle;\n",
       "    }\n",
       "\n",
       "    .dataframe tbody tr th {\n",
       "        vertical-align: top;\n",
       "    }\n",
       "\n",
       "    .dataframe thead th {\n",
       "        text-align: right;\n",
       "    }\n",
       "</style>\n",
       "<table border=\"1\" class=\"dataframe\">\n",
       "  <thead>\n",
       "    <tr style=\"text-align: right;\">\n",
       "      <th></th>\n",
       "      <th>Name</th>\n",
       "      <th>Number_of_artworks</th>\n",
       "    </tr>\n",
       "  </thead>\n",
       "  <tbody>\n",
       "    <tr>\n",
       "      <th>0</th>\n",
       "      <td>A. E. Gallatin</td>\n",
       "      <td>1</td>\n",
       "    </tr>\n",
       "    <tr>\n",
       "      <th>1</th>\n",
       "      <td>A. F. Gangkofner</td>\n",
       "      <td>2</td>\n",
       "    </tr>\n",
       "    <tr>\n",
       "      <th>2</th>\n",
       "      <td>A. G. Fronzoni</td>\n",
       "      <td>8</td>\n",
       "    </tr>\n",
       "    <tr>\n",
       "      <th>3</th>\n",
       "      <td>A. M. Cassandre</td>\n",
       "      <td>38</td>\n",
       "    </tr>\n",
       "    <tr>\n",
       "      <th>4</th>\n",
       "      <td>A. Michael Noll</td>\n",
       "      <td>4</td>\n",
       "    </tr>\n",
       "    <tr>\n",
       "      <th>...</th>\n",
       "      <td>...</td>\n",
       "      <td>...</td>\n",
       "    </tr>\n",
       "    <tr>\n",
       "      <th>7752</th>\n",
       "      <td>Édouard Vuillard</td>\n",
       "      <td>2</td>\n",
       "    </tr>\n",
       "    <tr>\n",
       "      <th>7753</th>\n",
       "      <td>Édouard-Wilfred Buquet</td>\n",
       "      <td>1</td>\n",
       "    </tr>\n",
       "    <tr>\n",
       "      <th>7754</th>\n",
       "      <td>Éric Chahi</td>\n",
       "      <td>1</td>\n",
       "    </tr>\n",
       "    <tr>\n",
       "      <th>7755</th>\n",
       "      <td>Étienne Hajdu</td>\n",
       "      <td>21</td>\n",
       "    </tr>\n",
       "    <tr>\n",
       "      <th>7756</th>\n",
       "      <td>Öyvind Fahlström</td>\n",
       "      <td>9</td>\n",
       "    </tr>\n",
       "  </tbody>\n",
       "</table>\n",
       "<p>7757 rows × 2 columns</p>\n",
       "</div>"
      ],
      "text/plain": [
       "                        Name  Number_of_artworks\n",
       "0             A. E. Gallatin                   1\n",
       "1           A. F. Gangkofner                   2\n",
       "2             A. G. Fronzoni                   8\n",
       "3            A. M. Cassandre                  38\n",
       "4            A. Michael Noll                   4\n",
       "...                      ...                 ...\n",
       "7752        Édouard Vuillard                   2\n",
       "7753  Édouard-Wilfred Buquet                   1\n",
       "7754              Éric Chahi                   1\n",
       "7755           Étienne Hajdu                  21\n",
       "7756        Öyvind Fahlström                   9\n",
       "\n",
       "[7757 rows x 2 columns]"
      ]
     },
     "execution_count": 64,
     "metadata": {},
     "output_type": "execute_result"
    }
   ],
   "source": [
    "df_artworks_count = dfd4.groupby('Name_y').size().reset_index(name='Number_of_artworks')\n",
    "df_artworks_count.rename(columns={'Name_y': 'Name'}, inplace=True)\n",
    "df_artworks_count"
   ]
  }
 ],
 "metadata": {
  "kernelspec": {
   "display_name": "Python 3 (ipykernel)",
   "language": "python",
   "name": "python3"
  },
  "language_info": {
   "codemirror_mode": {
    "name": "ipython",
    "version": 3
   },
   "file_extension": ".py",
   "mimetype": "text/x-python",
   "name": "python",
   "nbconvert_exporter": "python",
   "pygments_lexer": "ipython3",
   "version": "3.9.18"
  }
 },
 "nbformat": 4,
 "nbformat_minor": 5
}
